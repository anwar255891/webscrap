{
 "cells": [
  {
   "cell_type": "code",
   "execution_count": 2,
   "id": "93008ac4",
   "metadata": {},
   "outputs": [],
   "source": [
    "import requests\n",
    "from bs4 import BeautifulSoup\n",
    "import regex as re\n",
    "import pandas as pd"
   ]
  },
  {
   "cell_type": "code",
   "execution_count": null,
   "id": "97fa4ed6",
   "metadata": {},
   "outputs": [],
   "source": []
  },
  {
   "cell_type": "code",
   "execution_count": 3,
   "id": "83866493",
   "metadata": {},
   "outputs": [
    {
     "data": {
      "text/plain": [
       "12"
      ]
     },
     "execution_count": 3,
     "metadata": {},
     "output_type": "execute_result"
    }
   ],
   "source": [
    "page1=['Adegbenga A.. Adetola, MD','Mehrdad M.. Aghai, MD','Rosa M.. Aguero, NP','Joseph Ahdoot, MD','Afshin Ahoubim, MD','Farzad Alemi, MD','Tricia M.. Aliazis, NP','Mohsen A.. Aljayeh, MD','Nidal Alkafarna, PA','Ayman Alladawi, MD','Gwen M.. Allen, MD','Artur Ambartsumyan, PA']\n",
    "len(page1)"
   ]
  },
  {
   "cell_type": "code",
   "execution_count": 4,
   "id": "eb7e3815",
   "metadata": {},
   "outputs": [
    {
     "data": {
      "text/plain": [
       "12"
      ]
     },
     "execution_count": 4,
     "metadata": {},
     "output_type": "execute_result"
    }
   ],
   "source": [
    "page2=['Charles Ananian, DPM','Maxine M.. Anderson, MD','Muhammad F.. Anees, MD','Elizabeth A.. Arena, MD','Derek R.. Armfield, MD'\n",
    ",'Joel A.. Aronowitz, MD','Avo Artinyan, MD','David Aufrichtig, MD',\"Robby T.. Ayoub, MD\",'Elias I.. Ayoub, MD','Eleanor V.. Azurin, MD',\n",
    "'Raj Balasundaram, MD']\n",
    "len(page2)"
   ]
  },
  {
   "cell_type": "code",
   "execution_count": 5,
   "id": "883cd2e3",
   "metadata": {},
   "outputs": [
    {
     "data": {
      "text/plain": [
       "12"
      ]
     },
     "execution_count": 5,
     "metadata": {},
     "output_type": "execute_result"
    }
   ],
   "source": [
    "page3=[\n",
    "'Alex Balekian, MD',\n",
    "'Brady J.. Banta, MD',\n",
    "'Fayez M.. Bany-Mohammed, MD',\n",
    "'Jack Barbour, MD',\n",
    "'John Barkodar, MD',\n",
    "'Kelsey J.. Barth, PA',\n",
    "'Anjan S.. Batra, MD',\n",
    "'Ronald Belczyk, DPM',\n",
    "'Antonio Beltran, MD',\n",
    "'Eli J.. Bendavid, MD',\n",
    "'Dorothea J.. Berry, DDS',\n",
    "'Shailender K.. Bhatia, MD']\n",
    "len(page3)"
   ]
  },
  {
   "cell_type": "code",
   "execution_count": 6,
   "id": "5d5bb431",
   "metadata": {},
   "outputs": [
    {
     "data": {
      "text/plain": [
       "12"
      ]
     },
     "execution_count": 6,
     "metadata": {},
     "output_type": "execute_result"
    }
   ],
   "source": [
    "page4=['Jatin Bhatt, MD',\n",
    "'Rajesh A.. Bhavsar, MD',\n",
    "'Pinky Jane B.. Biag, RN',\n",
    "'Barbara H.. Biela, MD',\n",
    "'Michael E.. Blam, MD',\n",
    "'David C.. Blood, MD',\n",
    "'Jano A.. Boghossian, DPM',\n",
    "'Syed W.. Bokhari, MD',\n",
    "'Cristiano Boneti, MD',\n",
    "'Allen G.. Bookatz, MD',\n",
    "'Armand Bouzaglou, MD',\n",
    "'Karol L.. Bowens, MD'\n",
    "]\n",
    "len(page4)"
   ]
  },
  {
   "cell_type": "code",
   "execution_count": 7,
   "id": "6758c4c1",
   "metadata": {},
   "outputs": [
    {
     "data": {
      "text/plain": [
       "12"
      ]
     },
     "execution_count": 7,
     "metadata": {},
     "output_type": "execute_result"
    }
   ],
   "source": [
    "page5=[\n",
    "'Michael R.. Brand, MD',\n",
    "'Stephanie Brenman, MD',\n",
    "'Patrick D.. Browning, MD',\n",
    "'Emerson Buckhalter, MD',\n",
    "'Jeffrey E.. Bulger, PA',\n",
    "'Scott D.. Caganap, MD',\n",
    "'Monica S.. Camelo, MD',\n",
    "'Anna Carchi, NP',\n",
    "'Jorge F.. Carreon, MD',\n",
    "'Won Ki Chae, MD',\n",
    "'John Chan, DPM',\n",
    "'Karen Chang, MD'\n",
    "]\n",
    "len(page5)"
   ]
  },
  {
   "cell_type": "code",
   "execution_count": 38,
   "id": "7a284327",
   "metadata": {},
   "outputs": [
    {
     "data": {
      "text/plain": [
       "12"
      ]
     },
     "execution_count": 38,
     "metadata": {},
     "output_type": "execute_result"
    }
   ],
   "source": [
    "page6=[\n",
    "'Nathaniel C.. Chase, NP',\n",
    "'Emiliano R.. Chavira, MD',\n",
    "'Chi Hang Cheang, NP',\n",
    "'Gary Y.. Chen, MD',\n",
    "'Wen-Yuan M.. Chiang, DO',\n",
    "'Bor-Han Chiu, DO',\n",
    "'Johnny J.. Choi, MD',\n",
    "'George H.. Christides, MD',\n",
    "'Anupama Chundu, MD',\n",
    "'Michael S.. Chung, MD',\n",
    "'Hugh S.. Chung, MD',\n",
    "'Stevan R.. Clark, MD',\n",
    "]\n",
    "len(page6)"
   ]
  },
  {
   "cell_type": "code",
   "execution_count": 8,
   "id": "03414c37",
   "metadata": {},
   "outputs": [
    {
     "data": {
      "text/plain": [
       "12"
      ]
     },
     "execution_count": 8,
     "metadata": {},
     "output_type": "execute_result"
    }
   ],
   "source": [
    "page7=[\n",
    "'Brittany B.. Clark, NP',\n",
    "'Michael L.. Cogan, MD',\n",
    "'Kenneth Cohn, MD',\n",
    "'Rebecca J.. Coleman, MD',\n",
    "'Annette A.. Coronel-Perey, MD',\n",
    "'Jeffrey J.. Crudo, MD',\n",
    "'Eric R.. Crum, DMD',\n",
    "'Rajender S.. Dabas, PA',\n",
    "'Danielle N.. Dabbs, DO',\n",
    "'Chafik Dakak, MD',\n",
    "'Maria L.. Davis, MD',\n",
    "'Alex Dawoodian, DPM'\n",
    "]\n",
    "len(page7)"
   ]
  },
  {
   "cell_type": "code",
   "execution_count": 9,
   "id": "6c72f066",
   "metadata": {},
   "outputs": [
    {
     "data": {
      "text/plain": [
       "12"
      ]
     },
     "execution_count": 9,
     "metadata": {},
     "output_type": "execute_result"
    }
   ],
   "source": [
    "page8=[    \n",
    "'Bernardita L.. de los Reyes, MD',\n",
    "'Elizabeth R.. De Oliveira, MD',\n",
    "'Liberation B.. Deleon, MD',\n",
    "'Monica Derbigny, MD',\n",
    "'Edmond V.. Derderian, MD',\n",
    "'Berj Dermendjian, DO',\n",
    "'Mark W.. Deseran, MD',\n",
    "'Jason H.. Deutsch, MD',\n",
    "'Kamakshi Devarajan, MD',\n",
    "'Gracie-Ann Dinkins, MD',\n",
    "'Cody T.. Donahue, PA',\n",
    "'Arielle M.. Donner, NP'\n",
    "]\n",
    "len(page8)"
   ]
  },
  {
   "cell_type": "code",
   "execution_count": 10,
   "id": "675dc513",
   "metadata": {},
   "outputs": [
    {
     "data": {
      "text/plain": [
       "12"
      ]
     },
     "execution_count": 10,
     "metadata": {},
     "output_type": "execute_result"
    }
   ],
   "source": [
    "page9=[\n",
    "    'Nita Doshi, MD',\n",
    "'Viet Q.. Duong, MD',\n",
    "'John T.. Duong, MD',\n",
    "'Wilburn P.. Durousseau, MD',\n",
    "'Diana Echeverry-Franck, MD',\n",
    "'Arthur J.. Edelstein, MD',\n",
    "'Hossein Eftekhari, MD',\n",
    "'Mohamed A.. El-Shahawy, MD',\n",
    "'Joshua D.. Ellenhorn, MD',\n",
    "'Mary Jo L.. Emfield, PA',\n",
    "'Ersno Eromo, MD',\n",
    "'Jonathan J.. Eskenazi, MD'\n",
    "]\n",
    "len(page9)"
   ]
  },
  {
   "cell_type": "code",
   "execution_count": 11,
   "id": "de70e886",
   "metadata": {},
   "outputs": [
    {
     "data": {
      "text/plain": [
       "12"
      ]
     },
     "execution_count": 11,
     "metadata": {},
     "output_type": "execute_result"
    }
   ],
   "source": [
    "page10=[\n",
    "'Gabriel A.. Estremera, MD',\n",
    "'Alphonso Faison, DDS',\n",
    "'Jari E.. Faison, DDS',\n",
    "'Kenneth W.. Fan, DO',\n",
    "'Amin Farah, MD',\n",
    "'Doralice N.. Ferreira, DO',\n",
    "'Larnell Marshod Ferrell, MD',\n",
    "'Denise L.. Fisher, NP',\n",
    "'Robert Flashman, MD',\n",
    "'Andrew I.. Florentino, MD',\n",
    "'Gary E.. Ford, MD',\n",
    "'Andrew J.. Fragen, MD'\n",
    "]\n",
    "len(page10)"
   ]
  },
  {
   "cell_type": "code",
   "execution_count": 12,
   "id": "bbc8cca7",
   "metadata": {},
   "outputs": [
    {
     "data": {
      "text/plain": [
       "12"
      ]
     },
     "execution_count": 12,
     "metadata": {},
     "output_type": "execute_result"
    }
   ],
   "source": [
    "page11=[\n",
    "'David A.. Friedberg, MD',\n",
    "'Hugh P.. Fulmer, MD',\n",
    "'Gary N.. Garshfield, MD',\n",
    "'Sharon George, MD',\n",
    "'Hiruy H.. Gessesse, MD',\n",
    "'Ignatius P.. Godoy, MD',\n",
    "'Gol M.. Golshani, MD',\n",
    "'Carmen P.. Gonzales-Nate, MD',\n",
    "'Eduardo Gonzalez, MD',\n",
    "'Christopher G.. Goring, MD',\n",
    "'Ramon N.. Guadiz, MD',\n",
    "'Narayana R.. Gunda, MD'  \n",
    "    \n",
    "]\n",
    "len(page11)"
   ]
  },
  {
   "cell_type": "code",
   "execution_count": 13,
   "id": "98cae623",
   "metadata": {},
   "outputs": [
    {
     "data": {
      "text/plain": [
       "12"
      ]
     },
     "execution_count": 13,
     "metadata": {},
     "output_type": "execute_result"
    }
   ],
   "source": [
    "page12=[\n",
    "'Ajay Gupta, MD',\n",
    "'Onaona Gurney, MD',\n",
    "'Carlos R.. Guzman, MD',\n",
    "'Edgar X.. Guzman-Suarez, MD',\n",
    "'Prema S.. Hampapur, DPM',\n",
    "'Syed A.. Hasan, MD',\n",
    "'Gerald P.. Henry, MD',\n",
    "'Munther A.. Hijazin, MD',\n",
    "'Win Win Hlaing, MD',\n",
    "'John Ho, MD',\n",
    "'Andy Hong, MD',\n",
    "'Christopher M.. Hoshino, MD'\n",
    "]\n",
    "\n",
    "len(page12)"
   ]
  },
  {
   "cell_type": "code",
   "execution_count": 14,
   "id": "516c1d16",
   "metadata": {},
   "outputs": [
    {
     "data": {
      "text/plain": [
       "12"
      ]
     },
     "execution_count": 14,
     "metadata": {},
     "output_type": "execute_result"
    }
   ],
   "source": [
    "page13=[\n",
    "'Joseph K.. Hsu, MD',\n",
    "'Jimmy C.. Huang, MD',\n",
    "'Kiki Hurt, MD',\n",
    "'Tanvir Hussain, MD',\n",
    "'Farabi M.. Hussain, MD',\n",
    "'Brian Ichwan, MD',\n",
    "'Samuel Im, MD',\n",
    "'Kaushik Ivaturi, MD',\n",
    "'Mohammad R.. Jaber, MD',\n",
    "'David B.. Jackson, MD',\n",
    "'Javier A.. Jardon, MD',\n",
    "'Gamini S.. Jayasinghe, MD'\n",
    "]\n",
    "len(page13)"
   ]
  },
  {
   "cell_type": "code",
   "execution_count": 15,
   "id": "41f4528f",
   "metadata": {},
   "outputs": [
    {
     "data": {
      "text/plain": [
       "12"
      ]
     },
     "execution_count": 15,
     "metadata": {},
     "output_type": "execute_result"
    }
   ],
   "source": [
    "page14=[\n",
    "    'Gaston J.. Jeremiah, PA',\n",
    "'Wang (James) W.. Ji, MD',\n",
    "'Brian Jimenez, PA',\n",
    "'Ophthalmology',\n",
    "'Pediatrics',\n",
    "'Emergency Medicine',\n",
    "'Surgical Critical Care',\n",
    "'Pediatrics',\n",
    "'Infectious Disease',\n",
    "'Orthopaedic Surgery',\n",
    "'Nurse Practitioner',\n",
    "'Internal Medicine'\n",
    "]\n",
    "len(page14)"
   ]
  },
  {
   "cell_type": "code",
   "execution_count": 16,
   "id": "aae712fe",
   "metadata": {},
   "outputs": [
    {
     "data": {
      "text/plain": [
       "12"
      ]
     },
     "execution_count": 16,
     "metadata": {},
     "output_type": "execute_result"
    }
   ],
   "source": [
    "page15=[\n",
    "'Anjala Kanda, DPM',\n",
    "'Frangis Karamedin, MD',\n",
    "'Pallavi Kasukurthi, MD',\n",
    "'Jon P.. Kea, MD',\n",
    "'Sandeep K.. Khanna, MD',\n",
    "'Samia A.. Khwaja, MD',\n",
    "'Nafiz M.. Kiciman, MD',\n",
    "'John C.. Kirby, DO',\n",
    "'Alexander Knezevic, MD',\n",
    "'Sendhil K.. Krishnan, MD',\n",
    "'Ashok Kumar, MD',\n",
    "'Edward H.. Kwon, MD'\n",
    "]\n",
    "len(page15)"
   ]
  },
  {
   "cell_type": "code",
   "execution_count": 17,
   "id": "17156539",
   "metadata": {},
   "outputs": [
    {
     "data": {
      "text/plain": [
       "12"
      ]
     },
     "execution_count": 17,
     "metadata": {},
     "output_type": "execute_result"
    }
   ],
   "source": [
    "page16=[\n",
    "'Thomas G.. Kwong, MD',\n",
    "'Aakash Lad, MD',\n",
    "'Wyman W.. Lai, MD',\n",
    "'Lesley E.. Lawrenson, MD',\n",
    "'Milton I.. Lee, MD',\n",
    "'Michelle J.. Lee, PA',\n",
    "'Ben Lee, MD',\n",
    "'Brian M.. Lee, MD',\n",
    "'Mark C.. Lee, MD',\n",
    "'Onechang W.. Lee, MD',\n",
    "'Tyler T.. Leigh, MD',\n",
    "'Daniel R.. Lemay, MD'    \n",
    "]\n",
    "len(page16)"
   ]
  },
  {
   "cell_type": "code",
   "execution_count": 18,
   "id": "5c29e2f8",
   "metadata": {},
   "outputs": [
    {
     "data": {
      "text/plain": [
       "12"
      ]
     },
     "execution_count": 18,
     "metadata": {},
     "output_type": "execute_result"
    }
   ],
   "source": [
    "page17=[\n",
    "   \n",
    "'Marcos Lemor, MD',\n",
    "'Eileen A.. Liljeblad, MD',\n",
    "'Jamie A.. Lipeles, DO',\n",
    "'Minghsun Liu, MD',\n",
    "'Kyle C.. Lochridge, PA',\n",
    "'Bryan E.. Love, MD',\n",
    "'Stephen Lui, MD',\n",
    "'David L.. Lunsford, CRNA',\n",
    "'Huy Q.. Ly, MD',\n",
    "'Paiboon Mahaisavariya, MD',\n",
    "'Mehboob A.. Makhani, MD',\n",
    "'Farshad Malekmehr, MD' \n",
    "]\n",
    "len(page17)"
   ]
  },
  {
   "cell_type": "code",
   "execution_count": 19,
   "id": "de7ca92e",
   "metadata": {},
   "outputs": [
    {
     "data": {
      "text/plain": [
       "12"
      ]
     },
     "execution_count": 19,
     "metadata": {},
     "output_type": "execute_result"
    }
   ],
   "source": [
    "page18=[\n",
    "    \n",
    "'Nalin Mallik, MD',\n",
    "'Concepcion Mangasep, MD',\n",
    "'Christopher J.. Marrocco, MD',\n",
    "'Claudia V.. Martinez, MD',\n",
    "'Marsha L.. Martinson, MD',\n",
    "'Dorsa F.. Maryska, MD',\n",
    "'K.N. S.. Mbagwu, MD',\n",
    "'Anthony C.. McCanta, MD',\n",
    "'Danny C.. McCarthy, DO',\n",
    "'Holly M.. McCune, MD',\n",
    "'Ricardo E.. McKenzie, MD',\n",
    "'Michael K.. McLean, MD',\n",
    "]\n",
    "len(page18)"
   ]
  },
  {
   "cell_type": "code",
   "execution_count": 20,
   "id": "bdd85710",
   "metadata": {},
   "outputs": [
    {
     "data": {
      "text/plain": [
       "12"
      ]
     },
     "execution_count": 20,
     "metadata": {},
     "output_type": "execute_result"
    }
   ],
   "source": [
    "page19=[\n",
    "    \n",
    "'Katharine G.. McManus, PA',\n",
    "'Ryan T.. McNally, MD',\n",
    "'Joseph McQuirter, DDS',\n",
    "'Mario A.. Meallet, MD',\n",
    "'Akshay M.. Mehta, MD',\n",
    "'Manish D.. Mehta, MD',\n",
    "'Muhammad Memon, MD',\n",
    "'Andrew W.. Michael, MD',\n",
    "'Saad A.. Mir, MD',\n",
    "'Devadatt M.. Mishal, MD',\n",
    "'Antoine Mitri, MD',\n",
    "'Raj A.. Mittal, MD'\n",
    "]\n",
    "len(page19)"
   ]
  },
  {
   "cell_type": "code",
   "execution_count": 21,
   "id": "0c9184b0",
   "metadata": {},
   "outputs": [
    {
     "data": {
      "text/plain": [
       "12"
      ]
     },
     "execution_count": 21,
     "metadata": {},
     "output_type": "execute_result"
    }
   ],
   "source": [
    "page20=[\n",
    "'Dean V.. Moesch, MD',\n",
    "'Hamid R.. Mohazab, DO',\n",
    "'Benjamin F.. Monroe, MD',\n",
    "'Ramin Monshizadeh, MD',\n",
    "'Martha I.. Montealegre, NP',\n",
    "'Amod S.. Moosa, MD',\n",
    "'Gloria M.. Morales, MD',\n",
    "'Wilson A.. Morales, MD',\n",
    "'Gira S.. Morchi, MD',\n",
    "'Vilasinee Morkjaroenpong, MD',\n",
    "'Lewis K.. Moss, MD',\n",
    "'James P.. Murphy, NP'\n",
    "]\n",
    "len(page20)"
   ]
  },
  {
   "cell_type": "code",
   "execution_count": 22,
   "id": "43597359",
   "metadata": {},
   "outputs": [
    {
     "data": {
      "text/plain": [
       "12"
      ]
     },
     "execution_count": 22,
     "metadata": {},
     "output_type": "execute_result"
    }
   ],
   "source": [
    "page21=[\n",
    "    \n",
    "'Than Naing, MD',\n",
    "'Hares Najand, MD',\n",
    "'Soheil Najibi, MD',\n",
    "'Fadi E.. Nakhl, MD',\n",
    "'Krystal Neely, MD',\n",
    "'Emily P.. Ng, MD',\n",
    "'Hung Q.. Nguyen, MD',\n",
    "'Thuan P.. Nguyen, DO',\n",
    "'Khai T.. Nguyen, MD',\n",
    "'Yona N.. Nicolau, MD',\n",
    "'Zachary I.. Norman, MD',\n",
    "'Lizbhet Nunez, CRNA'\n",
    "]\n",
    "\n",
    "len(page21)"
   ]
  },
  {
   "cell_type": "code",
   "execution_count": 23,
   "id": "89e72617",
   "metadata": {},
   "outputs": [
    {
     "data": {
      "text/plain": [
       "12"
      ]
     },
     "execution_count": 23,
     "metadata": {},
     "output_type": "execute_result"
    }
   ],
   "source": [
    "page22=[\n",
    "    \n",
    "'Michael J.. oBrien, PA',\n",
    "'Chukwudi C.. Obue, NP',\n",
    "'Anthony O.. Ogundipe, MD',\n",
    "'Sushil K.. Ojha, MD',\n",
    "'Huitzilin M.. Olmecah, MD',\n",
    "'Michael S.. Olsen, MD',\n",
    "'Bassam O.. Omari, MD',\n",
    "'William N.. Paik, MD',\n",
    "'Peter S.. Pak, MD',\n",
    "'Patrick J.. Pan, MD',\n",
    "'Hemant Pande, MD',\n",
    "'Ravikanth Papani, MD'\n",
    "]\n",
    "len(page22)"
   ]
  },
  {
   "cell_type": "code",
   "execution_count": 24,
   "id": "43eaed57",
   "metadata": {},
   "outputs": [
    {
     "data": {
      "text/plain": [
       "12"
      ]
     },
     "execution_count": 24,
     "metadata": {},
     "output_type": "execute_result"
    }
   ],
   "source": [
    "page23=[\n",
    "    'Potenciano R.. Paredes, MD',\n",
    "'Paryus B.. Patel, MD',\n",
    "'Sapna S.. Patel, MD',\n",
    "'Devang J.. Patel, MD',\n",
    "'Neal K.. Patel, DPM',\n",
    "'Baminihannadige N.. Peiris, MD',\n",
    "'Arturo Pelayo, MD',\n",
    "'William Perkins, MD',\n",
    "'Loy A.. Pham, MD',\n",
    "'Peter P.. Piampiano, MD',\n",
    "'John L.. Pinches, DO',\n",
    "'Li Poa, MD'\n",
    "]\n",
    "len(page23)"
   ]
  },
  {
   "cell_type": "code",
   "execution_count": 25,
   "id": "afe23cad",
   "metadata": {},
   "outputs": [
    {
     "data": {
      "text/plain": [
       "12"
      ]
     },
     "execution_count": 25,
     "metadata": {},
     "output_type": "execute_result"
    }
   ],
   "source": [
    "page24=[\n",
    "    \n",
    "'Donald J.. Portocarrero, DO',\n",
    "'David A.. Pougatsch, DPM',\n",
    "'Shahin Pourrabbani, MD',\n",
    "'Raj Prasad, MD',\n",
    "'Ashley C.. Proal, NP',\n",
    "'Jonathan A.. Pryor, MD',\n",
    "'Ahmad A.. Qamar, MD',\n",
    "'Maria Nina N.. Quimpo, NP',\n",
    "'Reynaldo Quinonez, PA',\n",
    "'Masoud Rahban, MD',\n",
    "'Desiree M.. Ramirez, NP',\n",
    "'Lina T.. Ramos, MD'\n",
    "]\n",
    "len(page24)"
   ]
  },
  {
   "cell_type": "code",
   "execution_count": 26,
   "id": "fcfbc99d",
   "metadata": {},
   "outputs": [
    {
     "data": {
      "text/plain": [
       "12"
      ]
     },
     "execution_count": 26,
     "metadata": {},
     "output_type": "execute_result"
    }
   ],
   "source": [
    "page25=[\n",
    "'David F.. Razi, MD',\n",
    "'Michael R.. Recto, MD',\n",
    "'Sridhar M.. Reddy, MD',\n",
    "'Sandeep K.. Reddy, MD',\n",
    "'Pierangelo Renella, MD',\n",
    "'Hilda L.. Riderer, DO',\n",
    "'Jose L.. Rivas, MD',\n",
    "'Ayaka K.. Robbins, MFT',\n",
    "'Rodrigo J.. Rocha, MD',\n",
    "'Dmitriy Romanenko, MD',\n",
    "'Antonio N.. Romero, MD',\n",
    "'David S.. Rosenberg, MD'\n",
    "]\n",
    "len(page25)"
   ]
  },
  {
   "cell_type": "code",
   "execution_count": 27,
   "id": "70efa0fc",
   "metadata": {},
   "outputs": [
    {
     "data": {
      "text/plain": [
       "12"
      ]
     },
     "execution_count": 27,
     "metadata": {},
     "output_type": "execute_result"
    }
   ],
   "source": [
    "page26=[\n",
    "'Ginni S.. Rosenfeld, MD',\n",
    "'Ronald F.. Rosso, MD',\n",
    "'Saloomeh Saati, MD',\n",
    "'Nicholas C.. Saguan, MD',\n",
    "'Hani Salehi-Had, MD',\n",
    "'Dennis J.. Sanchez, MD',\n",
    "'Nancy Sand, MD',\n",
    "'Varneet K.. Sandhu, MD',\n",
    "'Ruchi Sareen, MD',\n",
    "'James E.. Saunders, MD',\n",
    "'Michael B.. Scott, MD',\n",
    "'Dana N.. Scott, MD'\n",
    "]\n",
    "len(page26)"
   ]
  },
  {
   "cell_type": "code",
   "execution_count": 28,
   "id": "c7913c92",
   "metadata": {},
   "outputs": [
    {
     "data": {
      "text/plain": [
       "12"
      ]
     },
     "execution_count": 28,
     "metadata": {},
     "output_type": "execute_result"
    }
   ],
   "source": [
    "page27=[\n",
    "    \n",
    "'Alyssa Z.. Scott, MD',\n",
    "'Douglas B.. Segal, MD',\n",
    "'Arunpal S.. Sehgal, MD',\n",
    "'Natalie Seiser, MD',\n",
    "'Pradeep K.. Selvan, MD',\n",
    "'Jamshid Shafai, MD',\n",
    "'Paurush L.. Shah, MD',\n",
    "'Mona M.. Shah, MD',\n",
    "'Mona S.. Shah, MD',\n",
    "'Almaas A.. Shaikh, MD',\n",
    "'Maya C.. Shammas, MD',\n",
    "'Hanna F.. Shammas, MD'\n",
    "]\n",
    "len(page27)"
   ]
  },
  {
   "cell_type": "code",
   "execution_count": 29,
   "id": "a3a20375",
   "metadata": {},
   "outputs": [
    {
     "data": {
      "text/plain": [
       "12"
      ]
     },
     "execution_count": 29,
     "metadata": {},
     "output_type": "execute_result"
    }
   ],
   "source": [
    "page28=[\n",
    "    \n",
    "'Reza Sharafi, MD',\n",
    "'Imran Sharief, MD',\n",
    "'Anil Sharma, MD',\n",
    "'Neha Sharma, MD',\n",
    "'Sylvia J.. Shaw, MD',\n",
    "'Emile G.. Shenouda, MD',\n",
    "'Tchaka B.. Shepherd, MD',\n",
    "'Imran M.. Siddiqui, MD',\n",
    "'Jack H.. Sills, MD',\n",
    "'Jessica B.. Simpson, MD',\n",
    "'Edward H.. Sims, MD',\n",
    "'Reddy S.. Singasani, MD'\n",
    "]\n",
    "len(page28)"
   ]
  },
  {
   "cell_type": "code",
   "execution_count": 30,
   "id": "d0015717",
   "metadata": {},
   "outputs": [
    {
     "data": {
      "text/plain": [
       "12"
      ]
     },
     "execution_count": 30,
     "metadata": {},
     "output_type": "execute_result"
    }
   ],
   "source": [
    "page29=[\n",
    "  \n",
    "'Willy G.. Singh, DO',\n",
    "'Anantjit Singh, MD',\n",
    "'Andrew H.. Singleton, MD',\n",
    "'Sanjay P.. Sinha, MD',\n",
    "'Brittany N.. Slaughter, PA',\n",
    "'Barbara A.. Smith, MD',\n",
    "'Martin L.. Smith, DPM',\n",
    "'Samad A.. Sohail, PA',\n",
    "'Kaveh Soleimanpour, MD',\n",
    "'Daljit K.. Soni, MD',\n",
    "'Ernest R.. Soto, Tech',\n",
    "'Mahathep M.. Srikureja, DO'  \n",
    "]\n",
    "len(page29)"
   ]
  },
  {
   "cell_type": "code",
   "execution_count": 31,
   "id": "dabd5ec7",
   "metadata": {},
   "outputs": [
    {
     "data": {
      "text/plain": [
       "12"
      ]
     },
     "execution_count": 31,
     "metadata": {},
     "output_type": "execute_result"
    }
   ],
   "source": [
    "page30=[\n",
    "'Debra L.. Stafford, MD',\n",
    "'Malgorzata V.. Stanczyk, MD',\n",
    "'Donald V.. Stevenson, MD',\n",
    "'Tanya S.. Steward, NP',\n",
    "'Jeffrey D.. Strickland, MD',\n",
    "'Shantall L.. Strozier, CRNA',\n",
    "'Aaron M.. Strumwasser, MD',\n",
    "'Tiffany N.. Su, MD',\n",
    "'Medardo C.. Supnet, MD',\n",
    "'Albert K.. Szeto, MD',\n",
    "'Meher F.. Tabatabai, MD',\n",
    "'Christiana P.. Tai, MD'\n",
    "]\n",
    "len(page30)"
   ]
  },
  {
   "cell_type": "code",
   "execution_count": 32,
   "id": "d2aceed7",
   "metadata": {},
   "outputs": [
    {
     "data": {
      "text/plain": [
       "12"
      ]
     },
     "execution_count": 32,
     "metadata": {},
     "output_type": "execute_result"
    }
   ],
   "source": [
    "page31=[\n",
    "    \n",
    "'Chong H.. Tak, MD',\n",
    "'Kaushal R.. Tamboli, MD',\n",
    "'Naureen Tareen, MD',\n",
    "'Velen Tat, PA',\n",
    "'James M.. Tatum, MD',\n",
    "'Karina G.. Tavakalyan, DPM',\n",
    "'Odette R.. Tawadrous, MD',\n",
    "'Khaled A.. Tawansy, MD',\n",
    "'Kiriaki F.. Taylor, PA',\n",
    "'Bhavik V.. Thakkar, MD',\n",
    "'Denacel Tolentino, NP',\n",
    "'Jose F.. Torreblanca, DO'\n",
    "]\n",
    "len(page31)"
   ]
  },
  {
   "cell_type": "code",
   "execution_count": 33,
   "id": "a1ad0af7",
   "metadata": {},
   "outputs": [
    {
     "data": {
      "text/plain": [
       "12"
      ]
     },
     "execution_count": 33,
     "metadata": {},
     "output_type": "execute_result"
    }
   ],
   "source": [
    "page32=[\n",
    "    \n",
    "'Ngoc-Tram G.. Tran, DO',\n",
    "'Wilbur Troutman, MD',\n",
    "'Grace J.. Trujillo-Gerardo, Tech',\n",
    "'Phuong C.. Truong-Yue, MD',\n",
    "'Mark C.. Tsai, MD',\n",
    "'Tony K.. Tseng, MD',\n",
    "'Thuc B.. Tu, MD',\n",
    "'Kyaw N.. Tun, DO',\n",
    "'Nnaemeka C.. Udoh, MD',\n",
    "'Chinedu Ugorji, MD',\n",
    "'Danielle B.. Unrein, DNP',\n",
    "'Miguel A.. Unzueta, MD'\n",
    "]\n",
    "len(page32)"
   ]
  },
  {
   "cell_type": "code",
   "execution_count": 34,
   "id": "5fb9aac0",
   "metadata": {},
   "outputs": [
    {
     "data": {
      "text/plain": [
       "12"
      ]
     },
     "execution_count": 34,
     "metadata": {},
     "output_type": "execute_result"
    }
   ],
   "source": [
    "page33=[\n",
    "  'Kristen R.. Uquillas, MD',\n",
    "'Cherry C.. Uy, MD',\n",
    "'Stacey D.. Valdez, DPM',\n",
    "'Eugene T.. Van, DO',\n",
    "'Alejandro Varela, PA',\n",
    "'Alyssa Vasquez, PA',\n",
    "'Shannon M.. Voss, PA',\n",
    "'Daniel Walk, PA',\n",
    "'Olukemi A.. Wallace, MD',\n",
    "'Jamie M.. Weiss, MD',\n",
    "'Jason S.. Wiguna, DO',\n",
    "'Paul J.. Wisniewski, DO'  \n",
    "]\n",
    "len(page33)"
   ]
  },
  {
   "cell_type": "code",
   "execution_count": 35,
   "id": "6863e10d",
   "metadata": {},
   "outputs": [
    {
     "data": {
      "text/plain": [
       "12"
      ]
     },
     "execution_count": 35,
     "metadata": {},
     "output_type": "execute_result"
    }
   ],
   "source": [
    "page34=[\n",
    "    \n",
    "'Emilia A.. Wobga-Pasiah, MD',\n",
    "'Stuart Wolf, MD',\n",
    "'Randy E.. Woo, MD',\n",
    "'James T.. Wu, MD',\n",
    "'Sasan Yadegar, MD',\n",
    "'Malvin Y.. Yan, DO',\n",
    "'Sita L.. Yanamadala, MD',\n",
    "'Helen Yang, DO',\n",
    "'Parham Yashar, MD',\n",
    "'Thomas C.. Yee, MD',\n",
    "'Brian C.. Yi, DPM',\n",
    "'Paul H.. Yoshino, MD'\n",
    "]\n",
    "len(page34)"
   ]
  },
  {
   "cell_type": "code",
   "execution_count": 36,
   "id": "711a3261",
   "metadata": {},
   "outputs": [
    {
     "data": {
      "text/plain": [
       "10"
      ]
     },
     "execution_count": 36,
     "metadata": {},
     "output_type": "execute_result"
    }
   ],
   "source": [
    "page35=[\n",
    "    \n",
    "'Harding G.. Young, MD',\n",
    "'Chibong A.. Yu, DO',\n",
    "'Maryam Zamanian, MD',\n",
    "'Amirhossein Zangiabadi, MD',\n",
    "'Mehdi Zargarian, MD',\n",
    "'Daniel H.. Zee, MD',\n",
    "'Anne M.. Zepeda-Tiscareno, MD',\n",
    "'Manuel Zevallos, MD',\n",
    "'Daniel M.. Zinar, MD',\n",
    "'Brian M.. Zwecker, MD'\n",
    "]\n",
    "len(page35)"
   ]
  },
  {
   "cell_type": "code",
   "execution_count": 39,
   "id": "e049ff5e",
   "metadata": {},
   "outputs": [],
   "source": [
    "var=page1+page2+page3+page4+page5+page6+page7+page8+page9+page10+page11+page12+page13+page14+page15+page16+page17+page18+page19+page20+page21+page22+page23+page24+page25+page26+page27+page28+page29+page30+page31+page32+page33+page34+page35"
   ]
  },
  {
   "cell_type": "code",
   "execution_count": 41,
   "id": "faff46ad",
   "metadata": {},
   "outputs": [
    {
     "data": {
      "text/plain": [
       "418"
      ]
     },
     "execution_count": 41,
     "metadata": {},
     "output_type": "execute_result"
    }
   ],
   "source": [
    "len(var)"
   ]
  },
  {
   "cell_type": "code",
   "execution_count": null,
   "id": "3799a78f",
   "metadata": {},
   "outputs": [],
   "source": []
  },
  {
   "cell_type": "code",
   "execution_count": null,
   "id": "5d88fa8c",
   "metadata": {},
   "outputs": [],
   "source": []
  },
  {
   "cell_type": "code",
   "execution_count": null,
   "id": "115dc9e0",
   "metadata": {},
   "outputs": [],
   "source": []
  },
  {
   "cell_type": "code",
   "execution_count": null,
   "id": "2ab49670",
   "metadata": {},
   "outputs": [],
   "source": []
  },
  {
   "cell_type": "code",
   "execution_count": null,
   "id": "a7e3c4bc",
   "metadata": {},
   "outputs": [],
   "source": []
  },
  {
   "cell_type": "code",
   "execution_count": 388,
   "id": "4701f6ae",
   "metadata": {},
   "outputs": [],
   "source": [
    "def webscrap(u): \n",
    "        url=u\n",
    "        r=requests.get(url)\n",
    "        htmlContent=r.content\n",
    "        soup=BeautifulSoup(htmlContent,'html.parser')\n",
    "        \n",
    "        dc={}       \n",
    "        \n",
    "        full_address=''\n",
    "        practice=''\n",
    "        Address=''\n",
    "\n",
    "        sp_value=[]\n",
    "        sp_key=[]\n",
    "        for i in soup.article.ul.find_all(\"strong\",text=['Primary Specialty:','Additional Specialty:']):\n",
    "            sp_key.append(i.text.strip(':'))\n",
    "\n",
    "        for i in soup.article.ul.find_all('a'):\n",
    "            (sp_value.append(i.text))\n",
    "        splst = {sp_key[i]: sp_value[i] for i in range(len(sp_key))}\n",
    "\n",
    "        '''Address'''\n",
    "        practice=soup.address.previous_sibling.previous_sibling.text\n",
    "        Address=soup.address.text.replace(\"\\t\",'').split(\"\\n\",1)[0]\n",
    "        full_address=practice+Address\n",
    "               \n",
    "        dc['Full Name']=soup.h1.text\n",
    "        dc['Full Address']=full_address\n",
    "        dc={**dc,**splst}\n",
    "        dc['Practice']=soup.address.previous_sibling.previous_sibling.text\n",
    "        dc['Address']=soup.address.text.replace(\"\\t\",'').split(\"\\n\",1)[0] if soup.address.text.replace(\"\\t\",'').split(\"\\n\",1)[0] else None\n",
    "        dc['City']=soup.find('span',{'itemprop':\"addressLocality\"}).text\n",
    "        dc['State']=soup.find('span',{'itemprop':\"addressRegion\"}).text\n",
    "        dc['Zip']=soup.find('span',{'itemprop':\"postalCode\"}).text\n",
    "        dc['phone']=None if not(soup.address.a) else soup.address.a.text\n",
    "        dc['URL']=u\n",
    "        return dc"
   ]
  },
  {
   "cell_type": "code",
   "execution_count": null,
   "id": "2602f74c",
   "metadata": {},
   "outputs": [],
   "source": []
  },
  {
   "cell_type": "code",
   "execution_count": 381,
   "id": "75a2354f",
   "metadata": {},
   "outputs": [],
   "source": [
    "main_path='https://www.stfrancismedicalcenter.com/find-a-provider/'"
   ]
  },
  {
   "cell_type": "code",
   "execution_count": 398,
   "id": "442d807c",
   "metadata": {},
   "outputs": [],
   "source": [
    "r=requests.get(main_path)\n",
    "htmlContent=r.content"
   ]
  },
  {
   "cell_type": "code",
   "execution_count": 382,
   "id": "e79940f7",
   "metadata": {},
   "outputs": [],
   "source": [
    "doc_path=[]\n",
    "for i in var:\n",
    "    doc_path.append(main_path+i.replace(\",\",\"\").replace(\" \",\"-\").replace(\".\",\"\").lower())"
   ]
  },
  {
   "cell_type": "code",
   "execution_count": null,
   "id": "29678ef8",
   "metadata": {},
   "outputs": [],
   "source": []
  },
  {
   "cell_type": "code",
   "execution_count": 383,
   "id": "c611cee6",
   "metadata": {},
   "outputs": [
    {
     "data": {
      "text/plain": [
       "418"
      ]
     },
     "execution_count": 383,
     "metadata": {},
     "output_type": "execute_result"
    }
   ],
   "source": [
    "len(doc_path)"
   ]
  },
  {
   "cell_type": "code",
   "execution_count": 384,
   "id": "340814be",
   "metadata": {},
   "outputs": [],
   "source": [
    "original_data=pd.DataFrame(columns=['Full Name',\"Primary Specialty\",'Additional Specialty','Full Address','Practice','Address','City','State','Zip','phone','URL'])"
   ]
  },
  {
   "cell_type": "code",
   "execution_count": 386,
   "id": "24e2417a",
   "metadata": {},
   "outputs": [],
   "source": [
    "for i in doc_path:\n",
    "    r=requests.get(i)\n",
    "    if r.url!=main_path:\n",
    "        info=webscrap(i)\n",
    "        original_data=original_data.append(info,ignore_index=True)\n",
    "    \n"
   ]
  },
  {
   "cell_type": "code",
   "execution_count": 400,
   "id": "f9427981",
   "metadata": {},
   "outputs": [
    {
     "data": {
      "text/html": [
       "<div>\n",
       "<style scoped>\n",
       "    .dataframe tbody tr th:only-of-type {\n",
       "        vertical-align: middle;\n",
       "    }\n",
       "\n",
       "    .dataframe tbody tr th {\n",
       "        vertical-align: top;\n",
       "    }\n",
       "\n",
       "    .dataframe thead th {\n",
       "        text-align: right;\n",
       "    }\n",
       "</style>\n",
       "<table border=\"1\" class=\"dataframe\">\n",
       "  <thead>\n",
       "    <tr style=\"text-align: right;\">\n",
       "      <th></th>\n",
       "      <th>Full Name</th>\n",
       "      <th>Primary Specialty</th>\n",
       "      <th>Additional Specialty</th>\n",
       "      <th>Full Address</th>\n",
       "      <th>Practice</th>\n",
       "      <th>Address</th>\n",
       "      <th>City</th>\n",
       "      <th>State</th>\n",
       "      <th>Zip</th>\n",
       "      <th>phone</th>\n",
       "      <th>URL</th>\n",
       "    </tr>\n",
       "  </thead>\n",
       "  <tbody>\n",
       "    <tr>\n",
       "      <th>0</th>\n",
       "      <td>Adegbenga A. Adetola, MD</td>\n",
       "      <td>Nephrology</td>\n",
       "      <td>Internal Medicine</td>\n",
       "      <td>3737 MLK, Jr. Blvd., Suite 400 Lynwood, CA 90262</td>\n",
       "      <td></td>\n",
       "      <td>3737 MLK, Jr. Blvd., Suite 400 Lynwood, CA 90262</td>\n",
       "      <td>Lynwood</td>\n",
       "      <td>CA</td>\n",
       "      <td>90262</td>\n",
       "      <td>310-631-2838</td>\n",
       "      <td>https://www.stfrancismedicalcenter.com/find-a-...</td>\n",
       "    </tr>\n",
       "    <tr>\n",
       "      <th>1</th>\n",
       "      <td>Mehrdad M. Aghai, MD</td>\n",
       "      <td>Ophthalmology</td>\n",
       "      <td>NaN</td>\n",
       "      <td>Century Eye Care Medical Center, Inc.1141 W. R...</td>\n",
       "      <td>Century Eye Care Medical Center, Inc.</td>\n",
       "      <td>1141 W. Redondo Beach Blvd., Suite 101 Gardena...</td>\n",
       "      <td>Lynwood</td>\n",
       "      <td>CA</td>\n",
       "      <td>90262</td>\n",
       "      <td>310-767-7814</td>\n",
       "      <td>https://www.stfrancismedicalcenter.com/find-a-...</td>\n",
       "    </tr>\n",
       "    <tr>\n",
       "      <th>2</th>\n",
       "      <td>Joseph Ahdoot, MD</td>\n",
       "      <td>Pediatric Cardiology</td>\n",
       "      <td>Pediatrics</td>\n",
       "      <td>Pacific Pediatric Cardiology Medical Grp50 W. ...</td>\n",
       "      <td>Pacific Pediatric Cardiology Medical Grp</td>\n",
       "      <td>50 W. Bellefontaine St., Suite 405 Pasadena, C...</td>\n",
       "      <td>Lynwood</td>\n",
       "      <td>CA</td>\n",
       "      <td>90262</td>\n",
       "      <td>626-796-9259</td>\n",
       "      <td>https://www.stfrancismedicalcenter.com/find-a-...</td>\n",
       "    </tr>\n",
       "    <tr>\n",
       "      <th>3</th>\n",
       "      <td>Afshin Ahoubim, MD</td>\n",
       "      <td>Critical Care Medicine</td>\n",
       "      <td>Nephrology</td>\n",
       "      <td>555 East Hardy StreetInglewood, CA 90301</td>\n",
       "      <td></td>\n",
       "      <td>555 East Hardy StreetInglewood, CA 90301</td>\n",
       "      <td>Lynwood</td>\n",
       "      <td>CA</td>\n",
       "      <td>90262</td>\n",
       "      <td>917-909-9151</td>\n",
       "      <td>https://www.stfrancismedicalcenter.com/find-a-...</td>\n",
       "    </tr>\n",
       "    <tr>\n",
       "      <th>4</th>\n",
       "      <td>Farzad Alemi, MD</td>\n",
       "      <td>General Surgical Oncology</td>\n",
       "      <td>General Surgery</td>\n",
       "      <td>3628 E. Imperial Hwy., Suite 103 Lynwood, CA 9...</td>\n",
       "      <td></td>\n",
       "      <td>3628 E. Imperial Hwy., Suite 103 Lynwood, CA 9...</td>\n",
       "      <td>Lynwood</td>\n",
       "      <td>CA</td>\n",
       "      <td>90262</td>\n",
       "      <td>310-900-5010</td>\n",
       "      <td>https://www.stfrancismedicalcenter.com/find-a-...</td>\n",
       "    </tr>\n",
       "  </tbody>\n",
       "</table>\n",
       "</div>"
      ],
      "text/plain": [
       "                  Full Name          Primary Specialty Additional Specialty  \\\n",
       "0  Adegbenga A. Adetola, MD                 Nephrology    Internal Medicine   \n",
       "1      Mehrdad M. Aghai, MD              Ophthalmology                  NaN   \n",
       "2         Joseph Ahdoot, MD       Pediatric Cardiology           Pediatrics   \n",
       "3        Afshin Ahoubim, MD     Critical Care Medicine           Nephrology   \n",
       "4          Farzad Alemi, MD  General Surgical Oncology      General Surgery   \n",
       "\n",
       "                                        Full Address  \\\n",
       "0   3737 MLK, Jr. Blvd., Suite 400 Lynwood, CA 90262   \n",
       "1  Century Eye Care Medical Center, Inc.1141 W. R...   \n",
       "2  Pacific Pediatric Cardiology Medical Grp50 W. ...   \n",
       "3           555 East Hardy StreetInglewood, CA 90301   \n",
       "4  3628 E. Imperial Hwy., Suite 103 Lynwood, CA 9...   \n",
       "\n",
       "                                   Practice  \\\n",
       "0                                             \n",
       "1     Century Eye Care Medical Center, Inc.   \n",
       "2  Pacific Pediatric Cardiology Medical Grp   \n",
       "3                                             \n",
       "4                                             \n",
       "\n",
       "                                             Address     City State    Zip  \\\n",
       "0   3737 MLK, Jr. Blvd., Suite 400 Lynwood, CA 90262  Lynwood   CA   90262   \n",
       "1  1141 W. Redondo Beach Blvd., Suite 101 Gardena...  Lynwood   CA   90262   \n",
       "2  50 W. Bellefontaine St., Suite 405 Pasadena, C...  Lynwood   CA   90262   \n",
       "3           555 East Hardy StreetInglewood, CA 90301  Lynwood   CA   90262   \n",
       "4  3628 E. Imperial Hwy., Suite 103 Lynwood, CA 9...  Lynwood   CA   90262   \n",
       "\n",
       "          phone                                                URL  \n",
       "0  310-631-2838  https://www.stfrancismedicalcenter.com/find-a-...  \n",
       "1  310-767-7814  https://www.stfrancismedicalcenter.com/find-a-...  \n",
       "2  626-796-9259  https://www.stfrancismedicalcenter.com/find-a-...  \n",
       "3  917-909-9151  https://www.stfrancismedicalcenter.com/find-a-...  \n",
       "4  310-900-5010  https://www.stfrancismedicalcenter.com/find-a-...  "
      ]
     },
     "execution_count": 400,
     "metadata": {},
     "output_type": "execute_result"
    }
   ],
   "source": [
    "original_data.head(5)"
   ]
  },
  {
   "cell_type": "code",
   "execution_count": 270,
   "id": "e95d424c",
   "metadata": {},
   "outputs": [],
   "source": []
  },
  {
   "cell_type": "code",
   "execution_count": 401,
   "id": "db99c09d",
   "metadata": {},
   "outputs": [],
   "source": [
    "original_data.to_csv('data.csv')"
   ]
  },
  {
   "cell_type": "code",
   "execution_count": null,
   "id": "edd11872",
   "metadata": {},
   "outputs": [],
   "source": []
  },
  {
   "cell_type": "code",
   "execution_count": null,
   "id": "86fb2a13",
   "metadata": {},
   "outputs": [],
   "source": []
  },
  {
   "cell_type": "code",
   "execution_count": null,
   "id": "3fe0fdde",
   "metadata": {},
   "outputs": [],
   "source": []
  },
  {
   "cell_type": "code",
   "execution_count": null,
   "id": "af833853",
   "metadata": {},
   "outputs": [],
   "source": []
  },
  {
   "cell_type": "code",
   "execution_count": null,
   "id": "80d61511",
   "metadata": {},
   "outputs": [],
   "source": []
  },
  {
   "cell_type": "code",
   "execution_count": null,
   "id": "711ed758",
   "metadata": {},
   "outputs": [],
   "source": []
  },
  {
   "cell_type": "code",
   "execution_count": null,
   "id": "1df0ec24",
   "metadata": {},
   "outputs": [],
   "source": []
  },
  {
   "cell_type": "code",
   "execution_count": null,
   "id": "39c06093",
   "metadata": {},
   "outputs": [],
   "source": []
  },
  {
   "cell_type": "code",
   "execution_count": null,
   "id": "4b5ca443",
   "metadata": {},
   "outputs": [],
   "source": []
  },
  {
   "cell_type": "code",
   "execution_count": null,
   "id": "a93e66ec",
   "metadata": {},
   "outputs": [],
   "source": []
  },
  {
   "cell_type": "code",
   "execution_count": null,
   "id": "a80547f6",
   "metadata": {},
   "outputs": [],
   "source": []
  },
  {
   "cell_type": "code",
   "execution_count": null,
   "id": "1678f34d",
   "metadata": {},
   "outputs": [],
   "source": []
  }
 ],
 "metadata": {
  "kernelspec": {
   "display_name": "Python 3 (ipykernel)",
   "language": "python",
   "name": "python3"
  },
  "language_info": {
   "codemirror_mode": {
    "name": "ipython",
    "version": 3
   },
   "file_extension": ".py",
   "mimetype": "text/x-python",
   "name": "python",
   "nbconvert_exporter": "python",
   "pygments_lexer": "ipython3",
   "version": "3.9.7"
  }
 },
 "nbformat": 4,
 "nbformat_minor": 5
}
